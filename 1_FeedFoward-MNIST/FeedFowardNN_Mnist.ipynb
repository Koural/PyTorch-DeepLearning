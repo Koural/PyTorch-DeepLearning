{
 "cells": [
  {
   "cell_type": "code",
   "execution_count": 3,
   "metadata": {},
   "outputs": [],
   "source": [
    "import torch\n",
    "import torch.nn as nn # Base model for all neural nets\n",
    "import torchvision.datasets as dsets # Contains MNIST dataset\n",
    "import torchvision.transforms as transforms # Common image transforms\n",
    "from torch.autograd import Variable # Used for auto differential on vectors"
   ]
  },
  {
   "cell_type": "code",
   "execution_count": 41,
   "metadata": {},
   "outputs": [],
   "source": [
    "import matplotlib.pyplot as plt"
   ]
  },
  {
   "cell_type": "code",
   "execution_count": 44,
   "metadata": {
    "collapsed": true
   },
   "outputs": [],
   "source": [
    "input_size = 784 # Images are 28x28=784 pixels\n",
    "hidden_size = 500\n",
    "num_classes = 10\n",
    "num_epochs = 15\n",
    "batch_size = 100\n",
    "learning_rate = 0.0001"
   ]
  },
  {
   "cell_type": "code",
   "execution_count": 45,
   "metadata": {},
   "outputs": [
    {
     "name": "stdout",
     "output_type": "stream",
     "text": [
      "Downloading http://yann.lecun.com/exdb/mnist/train-images-idx3-ubyte.gz\n",
      "Downloading http://yann.lecun.com/exdb/mnist/train-labels-idx1-ubyte.gz\n",
      "Downloading http://yann.lecun.com/exdb/mnist/t10k-images-idx3-ubyte.gz\n",
      "Downloading http://yann.lecun.com/exdb/mnist/t10k-labels-idx1-ubyte.gz\n",
      "Processing...\n",
      "Done!\n"
     ]
    }
   ],
   "source": [
    "# MNIST Dataset\n",
    "train_dataset = dsets.MNIST(root='./data', # Location to download\n",
    "                           train=True, # Get Train data vs Test data\n",
    "                           transform=transforms.ToTensor(), # Transforms PIL image to single tensor\n",
    "                           download=True) # Download dataset"
   ]
  },
  {
   "cell_type": "code",
   "execution_count": 46,
   "metadata": {},
   "outputs": [],
   "source": [
    "test_dataset = dsets.MNIST(root='./data',\n",
    "                          train=False,\n",
    "                          transform=transforms.ToTensor())"
   ]
  },
  {
   "cell_type": "code",
   "execution_count": 47,
   "metadata": {
    "collapsed": true
   },
   "outputs": [],
   "source": [
    "# Data Loader\n",
    "train_loader = torch.utils.data.DataLoader(dataset=train_dataset,\n",
    "                                           batch_size=batch_size,\n",
    "                                           shuffle=True)\n",
    "test_loader = torch.utils.data.DataLoader(dataset=test_dataset,\n",
    "                                       batch_size=batch_size,\n",
    "                                       shuffle=False)"
   ]
  },
  {
   "cell_type": "code",
   "execution_count": 48,
   "metadata": {
    "collapsed": true
   },
   "outputs": [],
   "source": [
    "# Since we're doing a single layer NN, Tanh is better than ReLU. Results from doing ReLU = 94%, Tanh = 96%"
   ]
  },
  {
   "cell_type": "code",
   "execution_count": 49,
   "metadata": {
    "collapsed": true
   },
   "outputs": [],
   "source": [
    "# Neural Network w/ 1 hidden layer\n",
    "# TODO Describe each part later\n",
    "class Net(nn.Module):\n",
    "    def __init__(self, input_size, hidden_size, num_classes):\n",
    "        super(Net,self).__init__()\n",
    "        self.fc1 = nn.Linear(input_size,hidden_size)\n",
    "        #self.relu=nn.ReLU()\n",
    "        self.tanh=nn.Tanh()\n",
    "        self.fc2 = nn.Linear(hidden_size,num_classes)\n",
    "        \n",
    "    def forward(self, x):\n",
    "        out = self.fc1(x)\n",
    "        #out = self.relu(out)\n",
    "        out = self.tanh(out)\n",
    "        out = self.fc2(out)\n",
    "        return out"
   ]
  },
  {
   "cell_type": "code",
   "execution_count": 50,
   "metadata": {},
   "outputs": [],
   "source": [
    "net = Net(input_size, hidden_size, num_classes)"
   ]
  },
  {
   "cell_type": "code",
   "execution_count": 51,
   "metadata": {
    "collapsed": true
   },
   "outputs": [],
   "source": [
    "# Loss and Optimizer\n",
    "criterion = nn.CrossEntropyLoss()\n",
    "optimizer = torch.optim.Adam(net.parameters(), lr=learning_rate)"
   ]
  },
  {
   "cell_type": "code",
   "execution_count": 52,
   "metadata": {
    "collapsed": true
   },
   "outputs": [],
   "source": [
    "loss_time = []"
   ]
  },
  {
   "cell_type": "code",
   "execution_count": 53,
   "metadata": {},
   "outputs": [
    {
     "name": "stdout",
     "output_type": "stream",
     "text": [
      "Epoch [1/15], Step [100/600], Loss: 1.1008\n",
      "Epoch [1/15], Step [200/600], Loss: 0.8003\n",
      "Epoch [1/15], Step [300/600], Loss: 0.4190\n",
      "Epoch [1/15], Step [400/600], Loss: 0.4501\n",
      "Epoch [1/15], Step [500/600], Loss: 0.4922\n",
      "Epoch [1/15], Step [600/600], Loss: 0.4157\n",
      "Epoch [2/15], Step [100/600], Loss: 0.3454\n",
      "Epoch [2/15], Step [200/600], Loss: 0.4242\n",
      "Epoch [2/15], Step [300/600], Loss: 0.2189\n",
      "Epoch [2/15], Step [400/600], Loss: 0.4990\n",
      "Epoch [2/15], Step [500/600], Loss: 0.1895\n",
      "Epoch [2/15], Step [600/600], Loss: 0.2630\n",
      "Epoch [3/15], Step [100/600], Loss: 0.3036\n",
      "Epoch [3/15], Step [200/600], Loss: 0.3545\n",
      "Epoch [3/15], Step [300/600], Loss: 0.3021\n",
      "Epoch [3/15], Step [400/600], Loss: 0.3923\n",
      "Epoch [3/15], Step [500/600], Loss: 0.2924\n",
      "Epoch [3/15], Step [600/600], Loss: 0.1867\n",
      "Epoch [4/15], Step [100/600], Loss: 0.1288\n",
      "Epoch [4/15], Step [200/600], Loss: 0.2459\n",
      "Epoch [4/15], Step [300/600], Loss: 0.1579\n",
      "Epoch [4/15], Step [400/600], Loss: 0.2530\n",
      "Epoch [4/15], Step [500/600], Loss: 0.2022\n",
      "Epoch [4/15], Step [600/600], Loss: 0.1799\n",
      "Epoch [5/15], Step [100/600], Loss: 0.1838\n",
      "Epoch [5/15], Step [200/600], Loss: 0.2846\n",
      "Epoch [5/15], Step [300/600], Loss: 0.2092\n",
      "Epoch [5/15], Step [400/600], Loss: 0.1397\n",
      "Epoch [5/15], Step [500/600], Loss: 0.2431\n",
      "Epoch [5/15], Step [600/600], Loss: 0.2611\n",
      "Epoch [6/15], Step [100/600], Loss: 0.2989\n",
      "Epoch [6/15], Step [200/600], Loss: 0.2709\n",
      "Epoch [6/15], Step [300/600], Loss: 0.2230\n",
      "Epoch [6/15], Step [400/600], Loss: 0.1577\n",
      "Epoch [6/15], Step [500/600], Loss: 0.2459\n",
      "Epoch [6/15], Step [600/600], Loss: 0.2375\n",
      "Epoch [7/15], Step [100/600], Loss: 0.1820\n",
      "Epoch [7/15], Step [200/600], Loss: 0.2273\n",
      "Epoch [7/15], Step [300/600], Loss: 0.1531\n",
      "Epoch [7/15], Step [400/600], Loss: 0.1974\n",
      "Epoch [7/15], Step [500/600], Loss: 0.1892\n",
      "Epoch [7/15], Step [600/600], Loss: 0.2614\n",
      "Epoch [8/15], Step [100/600], Loss: 0.1319\n",
      "Epoch [8/15], Step [200/600], Loss: 0.1944\n",
      "Epoch [8/15], Step [300/600], Loss: 0.1312\n",
      "Epoch [8/15], Step [400/600], Loss: 0.1657\n",
      "Epoch [8/15], Step [500/600], Loss: 0.1476\n",
      "Epoch [8/15], Step [600/600], Loss: 0.1764\n",
      "Epoch [9/15], Step [100/600], Loss: 0.0908\n",
      "Epoch [9/15], Step [200/600], Loss: 0.1318\n",
      "Epoch [9/15], Step [300/600], Loss: 0.2010\n",
      "Epoch [9/15], Step [400/600], Loss: 0.2277\n",
      "Epoch [9/15], Step [500/600], Loss: 0.0942\n",
      "Epoch [9/15], Step [600/600], Loss: 0.2592\n",
      "Epoch [10/15], Step [100/600], Loss: 0.1938\n",
      "Epoch [10/15], Step [200/600], Loss: 0.1116\n",
      "Epoch [10/15], Step [300/600], Loss: 0.1226\n",
      "Epoch [10/15], Step [400/600], Loss: 0.2039\n",
      "Epoch [10/15], Step [500/600], Loss: 0.1007\n",
      "Epoch [10/15], Step [600/600], Loss: 0.0930\n",
      "Epoch [11/15], Step [100/600], Loss: 0.1658\n",
      "Epoch [11/15], Step [200/600], Loss: 0.1155\n",
      "Epoch [11/15], Step [300/600], Loss: 0.1148\n",
      "Epoch [11/15], Step [400/600], Loss: 0.1318\n",
      "Epoch [11/15], Step [500/600], Loss: 0.3354\n",
      "Epoch [11/15], Step [600/600], Loss: 0.2048\n",
      "Epoch [12/15], Step [100/600], Loss: 0.0766\n",
      "Epoch [12/15], Step [200/600], Loss: 0.1777\n",
      "Epoch [12/15], Step [300/600], Loss: 0.1952\n",
      "Epoch [12/15], Step [400/600], Loss: 0.1741\n",
      "Epoch [12/15], Step [500/600], Loss: 0.0773\n",
      "Epoch [12/15], Step [600/600], Loss: 0.1507\n",
      "Epoch [13/15], Step [100/600], Loss: 0.1851\n",
      "Epoch [13/15], Step [200/600], Loss: 0.1585\n",
      "Epoch [13/15], Step [300/600], Loss: 0.1829\n",
      "Epoch [13/15], Step [400/600], Loss: 0.1810\n",
      "Epoch [13/15], Step [500/600], Loss: 0.2100\n",
      "Epoch [13/15], Step [600/600], Loss: 0.0886\n",
      "Epoch [14/15], Step [100/600], Loss: 0.1931\n",
      "Epoch [14/15], Step [200/600], Loss: 0.1177\n",
      "Epoch [14/15], Step [300/600], Loss: 0.0777\n",
      "Epoch [14/15], Step [400/600], Loss: 0.1811\n",
      "Epoch [14/15], Step [500/600], Loss: 0.1374\n",
      "Epoch [14/15], Step [600/600], Loss: 0.1392\n",
      "Epoch [15/15], Step [100/600], Loss: 0.0994\n",
      "Epoch [15/15], Step [200/600], Loss: 0.0766\n",
      "Epoch [15/15], Step [300/600], Loss: 0.0516\n",
      "Epoch [15/15], Step [400/600], Loss: 0.1855\n",
      "Epoch [15/15], Step [500/600], Loss: 0.1949\n",
      "Epoch [15/15], Step [600/600], Loss: 0.1214\n"
     ]
    }
   ],
   "source": [
    "# Training the Model\n",
    "for epoch in range(num_epochs):\n",
    "    for i, (images, labels) in enumerate(train_loader):\n",
    "        # Convert tensors to variables\n",
    "        images = Variable(images.view(-1,28*28)) # Converts image Differentialable column vector of size 784\n",
    "        labels = Variable(labels)\n",
    "        \n",
    "        # Forward + Backward + Optimize\n",
    "        optimizer.zero_grad() # Zero the gradient buffer\n",
    "        outputs = net(images)\n",
    "        loss = criterion(outputs, labels)\n",
    "        loss.backward()\n",
    "        optimizer.step()\n",
    "        \n",
    "        # Print every 100 steps\n",
    "        if(i+1)%100 == 0:\n",
    "            print ('Epoch [%d/%d], Step [%d/%d], Loss: %.4f' \n",
    "                   %(epoch+1, num_epochs, i+1, len(train_dataset)//batch_size, loss.data[0]))\n",
    "    loss_time.append(loss.data[0])"
   ]
  },
  {
   "cell_type": "code",
   "execution_count": 54,
   "metadata": {},
   "outputs": [
    {
     "data": {
      "image/png": "[encoded data removed]",
      "text/plain": [
       "<matplotlib.figure.Figure at 0x11b002f28>"
      ]
     },
     "metadata": {},
     "output_type": "display_data"
    }
   ],
   "source": [
    "plt.plot(loss_time)\n",
    "plt.ylabel('Loss')\n",
    "plt.xlabel('Epoch #')\n",
    "plt.show()"
   ]
  },
  {
   "cell_type": "code",
   "execution_count": 56,
   "metadata": {},
   "outputs": [],
   "source": [
    "# Test Model\n",
    "correct = 0\n",
    "total = 0\n",
    "for images, labels in test_loader:\n",
    "    images = Variable(images.view(-1, 28*28))\n",
    "    outputs = net(images)\n",
    "    _, predicted = torch.max(outputs.data, 1)\n",
    "    total += labels.size(0)\n",
    "    correct += (predicted == labels).sum()"
   ]
  },
  {
   "cell_type": "code",
   "execution_count": 57,
   "metadata": {},
   "outputs": [
    {
     "name": "stdout",
     "output_type": "stream",
     "text": [
      "Accuracy of the network on the 10000 test images: 96 %\n"
     ]
    }
   ],
   "source": [
    "print('Accuracy of the network on the 10000 test images: %d %%' % (100 * correct / total))"
   ]
  },
  {
   "cell_type": "code",
   "execution_count": 30,
   "metadata": {
    "collapsed": true
   },
   "outputs": [],
   "source": [
    "# Save the model to disk\n",
    "torch.save(net.state_dict(), 'model.pkl')"
   ]
  }
 ],
 "metadata": {
  "kernelspec": {
   "display_name": "ipykernel_py3",
   "language": "python",
   "name": "ipykernel_py3"
  },
  "language_info": {
   "codemirror_mode": {
    "name": "ipython",
    "version": 3
   },
   "file_extension": ".py",
   "mimetype": "text/x-python",
   "name": "python",
   "nbconvert_exporter": "python",
   "pygments_lexer": "ipython3",
   "version": "3.6.4"
  }
 },
 "nbformat": 4,
 "nbformat_minor": 2
}
