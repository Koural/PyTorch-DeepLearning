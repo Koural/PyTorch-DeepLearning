{
 "cells": [
  {
   "cell_type": "code",
   "execution_count": 3,
   "metadata": {},
   "outputs": [],
   "source": [
    "import torch\n",
    "import torch.nn as nn # Base model for all neural nets\n",
    "import torchvision.datasets as dsets # Contains MNIST dataset\n",
    "import torchvision.transforms as transforms # Common image transforms\n",
    "from torch.autograd import Variable # Used for auto differential on vectors"
   ]
  },
  {
   "cell_type": "code",
   "execution_count": 5,
   "metadata": {
    "collapsed": true
   },
   "outputs": [],
   "source": [
    "input_size = 784 # Images are 28x28=784 pixels\n",
    "hidden_size = 500\n",
    "num_classes = 10\n",
    "num_epochs = 5\n",
    "batch_size = 100\n",
    "learning_rate = 0.0001"
   ]
  },
  {
   "cell_type": "code",
   "execution_count": 6,
   "metadata": {},
   "outputs": [
    {
     "name": "stdout",
     "output_type": "stream",
     "text": [
      "Downloading http://yann.lecun.com/exdb/mnist/train-images-idx3-ubyte.gz\n",
      "Downloading http://yann.lecun.com/exdb/mnist/train-labels-idx1-ubyte.gz\n",
      "Downloading http://yann.lecun.com/exdb/mnist/t10k-images-idx3-ubyte.gz\n",
      "Downloading http://yann.lecun.com/exdb/mnist/t10k-labels-idx1-ubyte.gz\n",
      "Processing...\n",
      "Done!\n"
     ]
    }
   ],
   "source": [
    "# MNIST Dataset\n",
    "train_dataset = dsets.MNIST(root='./data', # Location to download\n",
    "                           train=True, # Get Train data vs Test data\n",
    "                           transform=transforms.ToTensor(), # Transforms PIL image to single tensor\n",
    "                           download=True) # Download dataset"
   ]
  },
  {
   "cell_type": "code",
   "execution_count": 8,
   "metadata": {},
   "outputs": [],
   "source": [
    "test_dataset = dsets.MNIST(root='./data',\n",
    "                          train=False,\n",
    "                          transform=transforms.ToTensor())"
   ]
  },
  {
   "cell_type": "code",
   "execution_count": 27,
   "metadata": {
    "collapsed": true
   },
   "outputs": [],
   "source": [
    "# Data Loader\n",
    "train_loader = torch.utils.data.DataLoader(dataset=train_dataset,\n",
    "                                           batch_size=batch_size,\n",
    "                                           shuffle=True)\n",
    "test_loader = torch.utils.data.DataLoader(dataset=test_dataset,\n",
    "                                       batch_size=batch_size,\n",
    "                                       shuffle=False)"
   ]
  },
  {
   "cell_type": "code",
   "execution_count": 17,
   "metadata": {
    "collapsed": true
   },
   "outputs": [],
   "source": [
    "# Neural Network w/ 1 hidden layer\n",
    "# TODO Describe each part later\n",
    "class Net(nn.Module):\n",
    "    def __init__(self, input_size, hidden_size, num_classes):\n",
    "        super(Net,self).__init__()\n",
    "        self.fc1 = nn.Linear(input_size,hidden_size)\n",
    "        self.relu=nn.ReLU()\n",
    "        self.fc2 = nn.Linear(hidden_size,num_classes)\n",
    "        \n",
    "    def forward(self, x):\n",
    "        out = self.fc1(x)\n",
    "        out = self.relu(out)\n",
    "        out = self.fc2(out)\n",
    "        return out"
   ]
  },
  {
   "cell_type": "code",
   "execution_count": 18,
   "metadata": {},
   "outputs": [],
   "source": [
    "net = Net(input_size, hidden_size, num_classes)"
   ]
  },
  {
   "cell_type": "code",
   "execution_count": 21,
   "metadata": {
    "collapsed": true
   },
   "outputs": [],
   "source": [
    "# Loss and Optimizer\n",
    "criterion = nn.CrossEntropyLoss()\n",
    "optimizer = torch.optim.Adam(net.parameters(), lr=learning_rate)"
   ]
  },
  {
   "cell_type": "code",
   "execution_count": 23,
   "metadata": {},
   "outputs": [
    {
     "name": "stdout",
     "output_type": "stream",
     "text": [
      "Epoch [1/5], Step [100/600], Loss: 1.2813\n",
      "Epoch [1/5], Step [200/600], Loss: 0.6801\n",
      "Epoch [1/5], Step [300/600], Loss: 0.4665\n",
      "Epoch [1/5], Step [400/600], Loss: 0.5080\n",
      "Epoch [1/5], Step [500/600], Loss: 0.4384\n",
      "Epoch [1/5], Step [600/600], Loss: 0.2955\n",
      "Epoch [2/5], Step [100/600], Loss: 0.2986\n",
      "Epoch [2/5], Step [200/600], Loss: 0.3982\n",
      "Epoch [2/5], Step [300/600], Loss: 0.2041\n",
      "Epoch [2/5], Step [400/600], Loss: 0.2661\n",
      "Epoch [2/5], Step [500/600], Loss: 0.3060\n",
      "Epoch [2/5], Step [600/600], Loss: 0.2675\n",
      "Epoch [3/5], Step [100/600], Loss: 0.2830\n",
      "Epoch [3/5], Step [200/600], Loss: 0.2656\n",
      "Epoch [3/5], Step [300/600], Loss: 0.2207\n",
      "Epoch [3/5], Step [400/600], Loss: 0.3658\n",
      "Epoch [3/5], Step [500/600], Loss: 0.2277\n",
      "Epoch [3/5], Step [600/600], Loss: 0.2368\n",
      "Epoch [4/5], Step [100/600], Loss: 0.2691\n",
      "Epoch [4/5], Step [200/600], Loss: 0.1961\n",
      "Epoch [4/5], Step [300/600], Loss: 0.1871\n",
      "Epoch [4/5], Step [400/600], Loss: 0.2684\n",
      "Epoch [4/5], Step [500/600], Loss: 0.2801\n",
      "Epoch [4/5], Step [600/600], Loss: 0.1802\n",
      "Epoch [5/5], Step [100/600], Loss: 0.1903\n",
      "Epoch [5/5], Step [200/600], Loss: 0.1958\n",
      "Epoch [5/5], Step [300/600], Loss: 0.3322\n",
      "Epoch [5/5], Step [400/600], Loss: 0.2822\n",
      "Epoch [5/5], Step [500/600], Loss: 0.0974\n",
      "Epoch [5/5], Step [600/600], Loss: 0.2788\n"
     ]
    }
   ],
   "source": [
    "# Training the Model\n",
    "for epoch in range(num_epochs):\n",
    "    for i, (images, labels) in enumerate(train_loader):\n",
    "        # Convert tensors to variables\n",
    "        images = Variable(images.view(-1,28*28))\n",
    "        labels = Variable(labels)\n",
    "        \n",
    "        # Forward + Backward + Optimize\n",
    "        optimizer.zero_grad() # Zero the gradient buffer\n",
    "        outputs = net(images)\n",
    "        loss = criterion(outputs, labels)\n",
    "        loss.backward()\n",
    "        optimizer.step()\n",
    "        \n",
    "        if(i+1)%100 == 0:\n",
    "            print ('Epoch [%d/%d], Step [%d/%d], Loss: %.4f' \n",
    "                   %(epoch+1, num_epochs, i+1, len(train_dataset)//batch_size, loss.data[0]))"
   ]
  },
  {
   "cell_type": "code",
   "execution_count": 28,
   "metadata": {},
   "outputs": [],
   "source": [
    "# Test Model\n",
    "correct = 0\n",
    "total = 0\n",
    "for images, labels in test_loader:\n",
    "    images = Variable(images.view(-1, 28*28))\n",
    "    outputs = net(images)\n",
    "    _, predicted = torch.max(outputs.data, 1)\n",
    "    total += labels.size(0)\n",
    "    correct += (predicted == labels).sum()"
   ]
  },
  {
   "cell_type": "code",
   "execution_count": 29,
   "metadata": {},
   "outputs": [
    {
     "name": "stdout",
     "output_type": "stream",
     "text": [
      "Accuracy of the network on the 10000 test images: 94 %\n"
     ]
    }
   ],
   "source": [
    "print('Accuracy of the network on the 10000 test images: %d %%' % (100 * correct / total))"
   ]
  },
  {
   "cell_type": "code",
   "execution_count": 30,
   "metadata": {
    "collapsed": true
   },
   "outputs": [],
   "source": [
    "# Save the model to disk\n",
    "torch.save(net.state_dict(), 'model.pkl')"
   ]
  }
 ],
 "metadata": {
  "kernelspec": {
   "display_name": "ipykernel_py3",
   "language": "python",
   "name": "ipykernel_py3"
  },
  "language_info": {
   "codemirror_mode": {
    "name": "ipython",
    "version": 3
   },
   "file_extension": ".py",
   "mimetype": "text/x-python",
   "name": "python",
   "nbconvert_exporter": "python",
   "pygments_lexer": "ipython3",
   "version": "3.6.4"
  }
 },
 "nbformat": 4,
 "nbformat_minor": 2
}
